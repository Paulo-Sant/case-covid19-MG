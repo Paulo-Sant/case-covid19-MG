{
 "cells": [
  {
   "cell_type": "markdown",
   "id": "9b9d43f4",
   "metadata": {},
   "source": [
    "### Base de Dados sobre obitos confirmados em minas Gerais por Covid-19 - 24/07/20 até 27/07/22"
   ]
  },
  {
   "cell_type": "markdown",
   "id": "42a25fd6",
   "metadata": {},
   "source": [
    "#### Esses dados foram Recolhidos do Site dados.gov.br\n",
    "#### Link do Arquivo: [https://dados.gov.br/dataset/obitos-confirmados-covid-19/resource/e5732e33-306f-422c-87b7-257c2e283de1](#division_ID)"
   ]
  },
  {
   "cell_type": "code",
   "execution_count": 45,
   "id": "84def29d",
   "metadata": {},
   "outputs": [],
   "source": [
    "import numpy as np\n",
    "import pandas as pd\n",
    "import matplotlib.pyplot as plt\n",
    "from matplotlib.pyplot import figure\n",
    "import seaborn as sns"
   ]
  },
  {
   "cell_type": "code",
   "execution_count": 2,
   "id": "d390464b",
   "metadata": {},
   "outputs": [],
   "source": [
    "%matplotlib inline"
   ]
  },
  {
   "cell_type": "code",
   "execution_count": 25,
   "id": "96b41b7d",
   "metadata": {
    "scrolled": false
   },
   "outputs": [
    {
     "data": {
      "text/html": [
       "<div>\n",
       "<style scoped>\n",
       "    .dataframe tbody tr th:only-of-type {\n",
       "        vertical-align: middle;\n",
       "    }\n",
       "\n",
       "    .dataframe tbody tr th {\n",
       "        vertical-align: top;\n",
       "    }\n",
       "\n",
       "    .dataframe thead th {\n",
       "        text-align: right;\n",
       "    }\n",
       "</style>\n",
       "<table border=\"1\" class=\"dataframe\">\n",
       "  <thead>\n",
       "    <tr style=\"text-align: right;\">\n",
       "      <th></th>\n",
       "      <th>PACIENTE</th>\n",
       "      <th>SEXO</th>\n",
       "      <th>IDADE</th>\n",
       "      <th>MUNICIPIO_RESIDENCIA</th>\n",
       "      <th>DATA_OBITO</th>\n",
       "      <th>COMORBIDADE</th>\n",
       "    </tr>\n",
       "  </thead>\n",
       "  <tbody>\n",
       "    <tr>\n",
       "      <th>0</th>\n",
       "      <td>1</td>\n",
       "      <td>M</td>\n",
       "      <td>79</td>\n",
       "      <td>Patos de Minas</td>\n",
       "      <td>2020-03-28</td>\n",
       "      <td>SIM</td>\n",
       "    </tr>\n",
       "    <tr>\n",
       "      <th>1</th>\n",
       "      <td>2</td>\n",
       "      <td>F</td>\n",
       "      <td>82</td>\n",
       "      <td>Belo Horizonte</td>\n",
       "      <td>2020-03-29</td>\n",
       "      <td>SIM</td>\n",
       "    </tr>\n",
       "    <tr>\n",
       "      <th>2</th>\n",
       "      <td>3</td>\n",
       "      <td>M</td>\n",
       "      <td>66</td>\n",
       "      <td>Belo Horizonte</td>\n",
       "      <td>2020-03-30</td>\n",
       "      <td>SIM</td>\n",
       "    </tr>\n",
       "    <tr>\n",
       "      <th>3</th>\n",
       "      <td>4</td>\n",
       "      <td>M</td>\n",
       "      <td>44</td>\n",
       "      <td>Mariana</td>\n",
       "      <td>2020-03-30</td>\n",
       "      <td>NÃO</td>\n",
       "    </tr>\n",
       "    <tr>\n",
       "      <th>4</th>\n",
       "      <td>5</td>\n",
       "      <td>M</td>\n",
       "      <td>80</td>\n",
       "      <td>Uberlândia</td>\n",
       "      <td>2020-03-30</td>\n",
       "      <td>SIM</td>\n",
       "    </tr>\n",
       "    <tr>\n",
       "      <th>...</th>\n",
       "      <td>...</td>\n",
       "      <td>...</td>\n",
       "      <td>...</td>\n",
       "      <td>...</td>\n",
       "      <td>...</td>\n",
       "      <td>...</td>\n",
       "    </tr>\n",
       "    <tr>\n",
       "      <th>2889</th>\n",
       "      <td>2890</td>\n",
       "      <td>M</td>\n",
       "      <td>86</td>\n",
       "      <td>Andradas</td>\n",
       "      <td>2020-07-30</td>\n",
       "      <td>SIM</td>\n",
       "    </tr>\n",
       "    <tr>\n",
       "      <th>2890</th>\n",
       "      <td>2891</td>\n",
       "      <td>F</td>\n",
       "      <td>68</td>\n",
       "      <td>Borda da Mata</td>\n",
       "      <td>2020-07-30</td>\n",
       "      <td>SIM</td>\n",
       "    </tr>\n",
       "    <tr>\n",
       "      <th>2891</th>\n",
       "      <td>2892</td>\n",
       "      <td>M</td>\n",
       "      <td>55</td>\n",
       "      <td>Iturama</td>\n",
       "      <td>2020-07-31</td>\n",
       "      <td>Não informado</td>\n",
       "    </tr>\n",
       "    <tr>\n",
       "      <th>2892</th>\n",
       "      <td>2893</td>\n",
       "      <td>F</td>\n",
       "      <td>81</td>\n",
       "      <td>Conceição das Alagoas</td>\n",
       "      <td>2020-08-01</td>\n",
       "      <td>Não informado</td>\n",
       "    </tr>\n",
       "    <tr>\n",
       "      <th>2893</th>\n",
       "      <td>2894</td>\n",
       "      <td>M</td>\n",
       "      <td>68</td>\n",
       "      <td>Pouso Alegre</td>\n",
       "      <td>2020-08-01</td>\n",
       "      <td>SIM</td>\n",
       "    </tr>\n",
       "  </tbody>\n",
       "</table>\n",
       "<p>2894 rows × 6 columns</p>\n",
       "</div>"
      ],
      "text/plain": [
       "      PACIENTE SEXO  IDADE   MUNICIPIO_RESIDENCIA  DATA_OBITO    COMORBIDADE\n",
       "0            1    M     79         Patos de Minas  2020-03-28            SIM\n",
       "1            2    F     82         Belo Horizonte  2020-03-29            SIM\n",
       "2            3    M     66         Belo Horizonte  2020-03-30            SIM\n",
       "3            4    M     44                Mariana  2020-03-30            NÃO\n",
       "4            5    M     80             Uberlândia  2020-03-30            SIM\n",
       "...        ...  ...    ...                    ...         ...            ...\n",
       "2889      2890    M     86               Andradas  2020-07-30            SIM\n",
       "2890      2891    F     68          Borda da Mata  2020-07-30            SIM\n",
       "2891      2892    M     55                Iturama  2020-07-31  Não informado\n",
       "2892      2893    F     81  Conceição das Alagoas  2020-08-01  Não informado\n",
       "2893      2894    M     68           Pouso Alegre  2020-08-01            SIM\n",
       "\n",
       "[2894 rows x 6 columns]"
      ]
     },
     "metadata": {},
     "output_type": "display_data"
    }
   ],
   "source": [
    "obitos = pd.read_csv(\"obitos-confirmados-covid-19.csv\")\n",
    "display(obitos)"
   ]
  },
  {
   "cell_type": "markdown",
   "id": "f970ac48",
   "metadata": {},
   "source": [
    "##### Maioria dos óbitos confirmados foram de idosos com idade de 70 anos."
   ]
  },
  {
   "cell_type": "code",
   "execution_count": 15,
   "id": "6e20494c",
   "metadata": {},
   "outputs": [
    {
     "data": {
      "text/plain": [
       "70.0"
      ]
     },
     "execution_count": 15,
     "metadata": {},
     "output_type": "execute_result"
    }
   ],
   "source": [
    "obitos['IDADE'].mean().round()"
   ]
  },
  {
   "cell_type": "markdown",
   "id": "b689f845",
   "metadata": {},
   "source": [
    "#### Abaixo Podemos ver através do gráfico a média de idades"
   ]
  },
  {
   "cell_type": "code",
   "execution_count": 90,
   "id": "bd9c9a75",
   "metadata": {},
   "outputs": [
    {
     "data": {
      "text/plain": [
       "<AxesSubplot:xlabel='IDADE', ylabel='Count'>"
      ]
     },
     "execution_count": 90,
     "metadata": {},
     "output_type": "execute_result"
    },
    {
     "data": {
      "image/png": "[encoded data removed]",
      "text/plain": [
       "<Figure size 600x900 with 1 Axes>"
      ]
     },
     "metadata": {},
     "output_type": "display_data"
    }
   ],
   "source": [
    "sns.set_theme(style=\"white\")\n",
    "f, ax = plt.subplots(figsize=(6, 9))\n",
    "sns.histplot(obitos['IDADE'], color='red')"
   ]
  },
  {
   "cell_type": "code",
   "execution_count": 17,
   "id": "8eb6bde2",
   "metadata": {},
   "outputs": [
    {
     "data": {
      "text/plain": [
       "[, ]    1676\n",
       "[F]     1218\n",
       "Name: SEXO, dtype: int64"
      ]
     },
     "execution_count": 17,
     "metadata": {},
     "output_type": "execute_result"
    }
   ],
   "source": [
    "obitos['SEXO'].apply(lambda x: x.split('M')).value_counts()"
   ]
  },
  {
   "cell_type": "code",
   "execution_count": 95,
   "id": "9b9536d4",
   "metadata": {},
   "outputs": [
    {
     "data": {
      "text/plain": [
       "<AxesSubplot:xlabel='SEXO', ylabel='Count'>"
      ]
     },
     "execution_count": 95,
     "metadata": {},
     "output_type": "execute_result"
    },
    {
     "data": {
      "image/png": "[encoded data removed]",
      "text/plain": [
       "<Figure size 200x400 with 1 Axes>"
      ]
     },
     "metadata": {},
     "output_type": "display_data"
    }
   ],
   "source": [
    "f, ax = plt.subplots(figsize=(2, 4))\n",
    "sns.histplot(obitos['SEXO'])"
   ]
  },
  {
   "cell_type": "code",
   "execution_count": null,
   "id": "507b977f",
   "metadata": {},
   "outputs": [],
   "source": []
  }
 ],
 "metadata": {
  "kernelspec": {
   "display_name": "Python 3 (ipykernel)",
   "language": "python",
   "name": "python3"
  },
  "language_info": {
   "codemirror_mode": {
    "name": "ipython",
    "version": 3
   },
   "file_extension": ".py",
   "mimetype": "text/x-python",
   "name": "python",
   "nbconvert_exporter": "python",
   "pygments_lexer": "ipython3",
   "version": "3.8.10"
  },
  "vscode": {
   "interpreter": {
    "hash": "85df43d83c08b8c9af82068f91ed2b2a0b6b33c3114db3c5f76d6c555d631cd4"
   }
  }
 },
 "nbformat": 4,
 "nbformat_minor": 5
}
